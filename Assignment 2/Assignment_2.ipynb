{
  "nbformat": 4,
  "nbformat_minor": 0,
  "metadata": {
    "colab": {
      "name": "Assignment 2.ipynb",
      "provenance": [],
      "collapsed_sections": [
        "6JesEY5ijA3M",
        "bWwsjcTA7RNe",
        "DbDXBMFPZc6k",
        "Qs945D_Q7U8j",
        "dXPyx_fE7Yx4"
      ]
    },
    "kernelspec": {
      "name": "ir",
      "display_name": "R"
    },
    "language_info": {
      "name": "R"
    }
  },
  "cells": [
    {
      "cell_type": "code",
      "metadata": {
        "colab": {
          "base_uri": "https://localhost:8080/"
        },
        "id": "0cu7xJsCjpC-",
        "outputId": "44b89352-5f48-41d1-80ff-c277c4c0e88e"
      },
      "source": [
        "install.packages(\"ISLR2\")\n",
        "install.packages(\"caret\")\n",
        "install.packages(\"klaR\")"
      ],
      "execution_count": 3,
      "outputs": [
        {
          "output_type": "stream",
          "name": "stderr",
          "text": [
            "Installing package into ‘/usr/local/lib/R/site-library’\n",
            "(as ‘lib’ is unspecified)\n",
            "\n",
            "Installing package into ‘/usr/local/lib/R/site-library’\n",
            "(as ‘lib’ is unspecified)\n",
            "\n",
            "also installing the dependencies ‘listenv’, ‘parallelly’, ‘future’, ‘globals’, ‘future.apply’, ‘progressr’, ‘numDeriv’, ‘SQUAREM’, ‘lava’, ‘prodlim’, ‘proxy’, ‘iterators’, ‘gower’, ‘ipred’, ‘timeDate’, ‘e1071’, ‘foreach’, ‘ModelMetrics’, ‘plyr’, ‘pROC’, ‘recipes’, ‘reshape2’\n",
            "\n",
            "\n",
            "Installing package into ‘/usr/local/lib/R/site-library’\n",
            "(as ‘lib’ is unspecified)\n",
            "\n",
            "also installing the dependencies ‘sass’, ‘R.methodsS3’, ‘R.oo’, ‘R.utils’, ‘httpuv’, ‘xtable’, ‘fontawesome’, ‘sourcetools’, ‘later’, ‘promises’, ‘bslib’, ‘R.cache’, ‘shiny’, ‘miniUI’, ‘styler’, ‘classInt’, ‘labelled’, ‘combinat’, ‘questionr’\n",
            "\n",
            "\n"
          ]
        }
      ]
    },
    {
      "cell_type": "code",
      "metadata": {
        "colab": {
          "base_uri": "https://localhost:8080/"
        },
        "id": "OPqXkAPf1fuZ",
        "outputId": "ffe65137-6a64-4eaf-e30d-815bb4a8c4a1"
      },
      "source": [
        "library(ISLR2)\n",
        "library(caret)\n",
        "library(MASS)\n",
        "library(class)\n",
        "library(klaR)"
      ],
      "execution_count": 4,
      "outputs": [
        {
          "output_type": "stream",
          "name": "stderr",
          "text": [
            "Loading required package: ggplot2\n",
            "\n",
            "Loading required package: lattice\n",
            "\n",
            "Warning message in system(\"timedatectl\", intern = TRUE):\n",
            "“running command 'timedatectl' had status 1”\n",
            "\n",
            "Attaching package: ‘MASS’\n",
            "\n",
            "\n",
            "The following object is masked from ‘package:ISLR2’:\n",
            "\n",
            "    Boston\n",
            "\n",
            "\n"
          ]
        }
      ]
    },
    {
      "cell_type": "markdown",
      "metadata": {
        "id": "6JesEY5ijA3M"
      },
      "source": [
        "# 4.13"
      ]
    },
    {
      "cell_type": "markdown",
      "metadata": {
        "id": "L3wlJPFej_4_"
      },
      "source": [
        "a"
      ]
    },
    {
      "cell_type": "code",
      "metadata": {
        "colab": {
          "base_uri": "https://localhost:8080/",
          "height": 374
        },
        "id": "frJ8IPOOjOh2",
        "outputId": "bcbe5eac-37fa-4186-f248-0401c8056f9b"
      },
      "source": [
        "summary(Weekly)"
      ],
      "execution_count": 14,
      "outputs": [
        {
          "output_type": "display_data",
          "data": {
            "text/plain": [
              "      Year           Lag1               Lag2               Lag3         \n",
              " Min.   :1990   Min.   :-18.1950   Min.   :-18.1950   Min.   :-18.1950  \n",
              " 1st Qu.:1995   1st Qu.: -1.1540   1st Qu.: -1.1540   1st Qu.: -1.1580  \n",
              " Median :2000   Median :  0.2410   Median :  0.2410   Median :  0.2410  \n",
              " Mean   :2000   Mean   :  0.1506   Mean   :  0.1511   Mean   :  0.1472  \n",
              " 3rd Qu.:2005   3rd Qu.:  1.4050   3rd Qu.:  1.4090   3rd Qu.:  1.4090  \n",
              " Max.   :2010   Max.   : 12.0260   Max.   : 12.0260   Max.   : 12.0260  \n",
              "      Lag4               Lag5              Volume            Today         \n",
              " Min.   :-18.1950   Min.   :-18.1950   Min.   :0.08747   Min.   :-18.1950  \n",
              " 1st Qu.: -1.1580   1st Qu.: -1.1660   1st Qu.:0.33202   1st Qu.: -1.1540  \n",
              " Median :  0.2380   Median :  0.2340   Median :1.00268   Median :  0.2410  \n",
              " Mean   :  0.1458   Mean   :  0.1399   Mean   :1.57462   Mean   :  0.1499  \n",
              " 3rd Qu.:  1.4090   3rd Qu.:  1.4050   3rd Qu.:2.05373   3rd Qu.:  1.4050  \n",
              " Max.   : 12.0260   Max.   : 12.0260   Max.   :9.32821   Max.   : 12.0260  \n",
              " Direction \n",
              " Down:484  \n",
              " Up  :605  \n",
              "           \n",
              "           \n",
              "           \n",
              "           "
            ]
          },
          "metadata": {}
        }
      ]
    },
    {
      "cell_type": "code",
      "metadata": {
        "colab": {
          "base_uri": "https://localhost:8080/",
          "height": 437
        },
        "id": "k5zei3BXj-1o",
        "outputId": "744723f3-e9d5-4fd9-f812-f0178777affc"
      },
      "source": [
        "pairs(Weekly)"
      ],
      "execution_count": 15,
      "outputs": [
        {
          "output_type": "display_data",
          "data": {
            "image/png": "[encoded data removed]",
            "text/plain": [
              "plot without title"
            ]
          },
          "metadata": {
            "image/png": {
              "width": 420,
              "height": 420
            }
          }
        }
      ]
    },
    {
      "cell_type": "markdown",
      "metadata": {
        "id": "YWa3b1fckTeM"
      },
      "source": [
        "There is not much pattern observed in the summaries above which is common and expected in stock market datasets. One exception is the pattern between Year and Volume, which shows that the Volume increases over time."
      ]
    },
    {
      "cell_type": "markdown",
      "metadata": {
        "id": "nfDWDEoEleN1"
      },
      "source": [
        "b"
      ]
    },
    {
      "cell_type": "code",
      "metadata": {
        "colab": {
          "base_uri": "https://localhost:8080/",
          "height": 493
        },
        "id": "cq2nuNxflfCs",
        "outputId": "58c51e72-8e8f-4611-9bd9-6335e47526cc"
      },
      "source": [
        "glm.fits=glm(Direction~Lag1+Lag2+Lag3+Lag4+Lag5+Volume,data=Weekly,family=binomial)\n",
        "summary(glm.fits)"
      ],
      "execution_count": 16,
      "outputs": [
        {
          "output_type": "display_data",
          "data": {
            "text/plain": [
              "\n",
              "Call:\n",
              "glm(formula = Direction ~ Lag1 + Lag2 + Lag3 + Lag4 + Lag5 + \n",
              "    Volume, family = binomial, data = Weekly)\n",
              "\n",
              "Deviance Residuals: \n",
              "    Min       1Q   Median       3Q      Max  \n",
              "-1.6949  -1.2565   0.9913   1.0849   1.4579  \n",
              "\n",
              "Coefficients:\n",
              "            Estimate Std. Error z value Pr(>|z|)   \n",
              "(Intercept)  0.26686    0.08593   3.106   0.0019 **\n",
              "Lag1        -0.04127    0.02641  -1.563   0.1181   \n",
              "Lag2         0.05844    0.02686   2.175   0.0296 * \n",
              "Lag3        -0.01606    0.02666  -0.602   0.5469   \n",
              "Lag4        -0.02779    0.02646  -1.050   0.2937   \n",
              "Lag5        -0.01447    0.02638  -0.549   0.5833   \n",
              "Volume      -0.02274    0.03690  -0.616   0.5377   \n",
              "---\n",
              "Signif. codes:  0 ‘***’ 0.001 ‘**’ 0.01 ‘*’ 0.05 ‘.’ 0.1 ‘ ’ 1\n",
              "\n",
              "(Dispersion parameter for binomial family taken to be 1)\n",
              "\n",
              "    Null deviance: 1496.2  on 1088  degrees of freedom\n",
              "Residual deviance: 1486.4  on 1082  degrees of freedom\n",
              "AIC: 1500.4\n",
              "\n",
              "Number of Fisher Scoring iterations: 4\n"
            ]
          },
          "metadata": {}
        }
      ]
    },
    {
      "cell_type": "markdown",
      "metadata": {
        "id": "E8WOPYu9nHGE"
      },
      "source": [
        "Lag2 appears to be statistically significant with p-value less than 0.05"
      ]
    },
    {
      "cell_type": "markdown",
      "metadata": {
        "id": "s1WAge5wnW2h"
      },
      "source": [
        "c"
      ]
    },
    {
      "cell_type": "code",
      "metadata": {
        "colab": {
          "base_uri": "https://localhost:8080/",
          "height": 136
        },
        "id": "bzufnK-nm1ca",
        "outputId": "265e6fe9-090d-4583-b845-c48b95f30530"
      },
      "source": [
        "glm.probs=predict(glm.fits,Weekly,type=\"response\")\n",
        "glm.pred=rep(\"Down\",length(glm.probs))\n",
        "glm.pred[glm.probs>.5]=\"Up\"\n",
        "cm=table(glm.pred,Direction)\n",
        "\n",
        "cm\n",
        "mean(glm.pred==Direction)\n",
        "sensitivity(cm)\n",
        "specificity(cm)"
      ],
      "execution_count": 20,
      "outputs": [
        {
          "output_type": "display_data",
          "data": {
            "text/plain": [
              "        Direction\n",
              "glm.pred Down  Up\n",
              "    Down   54  48\n",
              "    Up    430 557"
            ]
          },
          "metadata": {}
        },
        {
          "output_type": "display_data",
          "data": {
            "text/plain": [
              "[1] 0.5610652"
            ],
            "text/latex": "0.561065197428834",
            "text/markdown": "0.561065197428834",
            "text/html": [
              "0.561065197428834"
            ]
          },
          "metadata": {}
        },
        {
          "output_type": "display_data",
          "data": {
            "text/plain": [
              "[1] 0.1115702"
            ],
            "text/latex": "0.111570247933884",
            "text/markdown": "0.111570247933884",
            "text/html": [
              "0.111570247933884"
            ]
          },
          "metadata": {}
        },
        {
          "output_type": "display_data",
          "data": {
            "text/plain": [
              "[1] 0.9206612"
            ],
            "text/latex": "0.920661157024793",
            "text/markdown": "0.920661157024793",
            "text/html": [
              "0.920661157024793"
            ]
          },
          "metadata": {}
        }
      ]
    },
    {
      "cell_type": "markdown",
      "metadata": {
        "id": "ZjfLK9VworLO"
      },
      "source": [
        "The overall fraction of correct predictions = 0.561065197428834. The model has poor specificity as shown above. In other words, the model could only predict correctly 11% of the time when the Direction is Down."
      ]
    },
    {
      "cell_type": "markdown",
      "metadata": {
        "id": "oHg5Snl8rYWM"
      },
      "source": [
        "d"
      ]
    },
    {
      "cell_type": "code",
      "metadata": {
        "colab": {
          "base_uri": "https://localhost:8080/",
          "height": 595
        },
        "id": "xsFO8H50oqvj",
        "outputId": "1fbbe0c1-5538-4cb2-9942-b242fbb6a3a4"
      },
      "source": [
        "train=Weekly$Year<2009\n",
        "\n",
        "glm.fits=glm(Direction~Lag2,data=Weekly[train,],family=binomial)\n",
        "summary(glm.fits)\n",
        "\n",
        "glm.probs=predict(glm.fits,Weekly[!train,],type=\"response\")\n",
        "glm.pred=rep(\"Down\",length(glm.probs))\n",
        "glm.pred[glm.probs>.5]=\"Up\"\n",
        "table(glm.pred,Direction[!train])\n",
        "cm=table(glm.pred,Direction[!train])\n",
        "\n",
        "cm\n",
        "mean(glm.pred==Direction[!train])\n",
        "sensitivity(cm)\n",
        "specificity(cm)"
      ],
      "execution_count": 22,
      "outputs": [
        {
          "output_type": "display_data",
          "data": {
            "text/plain": [
              "\n",
              "Call:\n",
              "glm(formula = Direction ~ Lag2, family = binomial, data = Weekly[train, \n",
              "    ])\n",
              "\n",
              "Deviance Residuals: \n",
              "   Min      1Q  Median      3Q     Max  \n",
              "-1.536  -1.264   1.021   1.091   1.368  \n",
              "\n",
              "Coefficients:\n",
              "            Estimate Std. Error z value Pr(>|z|)   \n",
              "(Intercept)  0.20326    0.06428   3.162  0.00157 **\n",
              "Lag2         0.05810    0.02870   2.024  0.04298 * \n",
              "---\n",
              "Signif. codes:  0 ‘***’ 0.001 ‘**’ 0.01 ‘*’ 0.05 ‘.’ 0.1 ‘ ’ 1\n",
              "\n",
              "(Dispersion parameter for binomial family taken to be 1)\n",
              "\n",
              "    Null deviance: 1354.7  on 984  degrees of freedom\n",
              "Residual deviance: 1350.5  on 983  degrees of freedom\n",
              "AIC: 1354.5\n",
              "\n",
              "Number of Fisher Scoring iterations: 4\n"
            ]
          },
          "metadata": {}
        },
        {
          "output_type": "display_data",
          "data": {
            "text/plain": [
              "        \n",
              "glm.pred Down Up\n",
              "    Down    9  5\n",
              "    Up     34 56"
            ]
          },
          "metadata": {}
        },
        {
          "output_type": "display_data",
          "data": {
            "text/plain": [
              "        \n",
              "glm.pred Down Up\n",
              "    Down    9  5\n",
              "    Up     34 56"
            ]
          },
          "metadata": {}
        },
        {
          "output_type": "display_data",
          "data": {
            "text/plain": [
              "[1] 0.625"
            ],
            "text/latex": "0.625",
            "text/markdown": "0.625",
            "text/html": [
              "0.625"
            ]
          },
          "metadata": {}
        },
        {
          "output_type": "display_data",
          "data": {
            "text/plain": [
              "[1] 0.2093023"
            ],
            "text/latex": "0.209302325581395",
            "text/markdown": "0.209302325581395",
            "text/html": [
              "0.209302325581395"
            ]
          },
          "metadata": {}
        },
        {
          "output_type": "display_data",
          "data": {
            "text/plain": [
              "[1] 0.9180328"
            ],
            "text/latex": "0.918032786885246",
            "text/markdown": "0.918032786885246",
            "text/html": [
              "0.918032786885246"
            ]
          },
          "metadata": {}
        }
      ]
    },
    {
      "cell_type": "markdown",
      "metadata": {
        "id": "6s0V_E_lvl96"
      },
      "source": [
        "The overall fraction of correct predictions = 0.625\n",
        "\n",
        "sensitivity = 0.209302325581395\n",
        "\n",
        "specificity = 0.918032786885246"
      ]
    },
    {
      "cell_type": "markdown",
      "metadata": {
        "id": "SPodxOFg0WsM"
      },
      "source": [
        "e"
      ]
    },
    {
      "cell_type": "code",
      "metadata": {
        "colab": {
          "base_uri": "https://localhost:8080/",
          "height": 391
        },
        "id": "I-4RD-DB0tIw",
        "outputId": "9d9ca406-c055-4e0c-d4ca-d95ca537cd0f"
      },
      "source": [
        "lda.fits=lda(Direction~Lag2,data=Weekly[train,])\n",
        "lda.fits\n",
        "\n",
        "lda.pred=predict(lda.fits,Weekly[!train,])\n",
        "cm=table(lda.pred$class,Direction[!train])\n",
        "\n",
        "cm\n",
        "mean(lda.pred$class==Direction[!train])\n",
        "sensitivity(cm)\n",
        "specificity(cm)"
      ],
      "execution_count": 34,
      "outputs": [
        {
          "output_type": "display_data",
          "data": {
            "text/plain": [
              "Call:\n",
              "lda(Direction ~ Lag2, data = Weekly[train, ])\n",
              "\n",
              "Prior probabilities of groups:\n",
              "     Down        Up \n",
              "0.4477157 0.5522843 \n",
              "\n",
              "Group means:\n",
              "            Lag2\n",
              "Down -0.03568254\n",
              "Up    0.26036581\n",
              "\n",
              "Coefficients of linear discriminants:\n",
              "           LD1\n",
              "Lag2 0.4414162"
            ]
          },
          "metadata": {}
        },
        {
          "output_type": "display_data",
          "data": {
            "text/plain": [
              "      \n",
              "       Down Up\n",
              "  Down    9  5\n",
              "  Up     34 56"
            ]
          },
          "metadata": {}
        },
        {
          "output_type": "display_data",
          "data": {
            "text/plain": [
              "[1] 0.625"
            ],
            "text/latex": "0.625",
            "text/markdown": "0.625",
            "text/html": [
              "0.625"
            ]
          },
          "metadata": {}
        },
        {
          "output_type": "display_data",
          "data": {
            "text/plain": [
              "[1] 0.2093023"
            ],
            "text/latex": "0.209302325581395",
            "text/markdown": "0.209302325581395",
            "text/html": [
              "0.209302325581395"
            ]
          },
          "metadata": {}
        },
        {
          "output_type": "display_data",
          "data": {
            "text/plain": [
              "[1] 0.9180328"
            ],
            "text/latex": "0.918032786885246",
            "text/markdown": "0.918032786885246",
            "text/html": [
              "0.918032786885246"
            ]
          },
          "metadata": {}
        }
      ]
    },
    {
      "cell_type": "markdown",
      "metadata": {
        "id": "7s9yWCYU3D_7"
      },
      "source": [
        "The overall fraction of correct predictions = 0.625\n",
        "\n",
        "sensitivity = 0.209302325581395\n",
        "\n",
        "specificity = 0.918032786885246"
      ]
    },
    {
      "cell_type": "markdown",
      "metadata": {
        "id": "HwyUvCwC25Bh"
      },
      "source": [
        "f"
      ]
    },
    {
      "cell_type": "code",
      "metadata": {
        "colab": {
          "base_uri": "https://localhost:8080/",
          "height": 323
        },
        "id": "iNWRKcVq25kZ",
        "outputId": "7fef6dfc-12a3-449c-9873-1e53415a2c43"
      },
      "source": [
        "qda.fits=qda(Direction~Lag2,data=Weekly[train,])\n",
        "qda.fits\n",
        "\n",
        "qda.pred=predict(qda.fits,Weekly[!train,])\n",
        "cm=table(qda.pred$class,Direction[!train])\n",
        "\n",
        "cm\n",
        "mean(qda.pred$class==Direction[!train])\n",
        "sensitivity(cm)\n",
        "specificity(cm)"
      ],
      "execution_count": 36,
      "outputs": [
        {
          "output_type": "display_data",
          "data": {
            "text/plain": [
              "Call:\n",
              "qda(Direction ~ Lag2, data = Weekly[train, ])\n",
              "\n",
              "Prior probabilities of groups:\n",
              "     Down        Up \n",
              "0.4477157 0.5522843 \n",
              "\n",
              "Group means:\n",
              "            Lag2\n",
              "Down -0.03568254\n",
              "Up    0.26036581"
            ]
          },
          "metadata": {}
        },
        {
          "output_type": "display_data",
          "data": {
            "text/plain": [
              "      \n",
              "       Down Up\n",
              "  Down    0  0\n",
              "  Up     43 61"
            ]
          },
          "metadata": {}
        },
        {
          "output_type": "display_data",
          "data": {
            "text/plain": [
              "[1] 0.5865385"
            ],
            "text/latex": "0.586538461538462",
            "text/markdown": "0.586538461538462",
            "text/html": [
              "0.586538461538462"
            ]
          },
          "metadata": {}
        },
        {
          "output_type": "display_data",
          "data": {
            "text/plain": [
              "[1] 0"
            ],
            "text/latex": "0",
            "text/markdown": "0",
            "text/html": [
              "0"
            ]
          },
          "metadata": {}
        },
        {
          "output_type": "display_data",
          "data": {
            "text/plain": [
              "[1] 1"
            ],
            "text/latex": "1",
            "text/markdown": "1",
            "text/html": [
              "1"
            ]
          },
          "metadata": {}
        }
      ]
    },
    {
      "cell_type": "markdown",
      "metadata": {
        "id": "TFRMMI6r3Hzk"
      },
      "source": [
        "The overall fraction of correct predictions = 0.586538461538462\n",
        "\n",
        "sensitivity = 0\n",
        "\n",
        "specificity = 1"
      ]
    },
    {
      "cell_type": "markdown",
      "metadata": {
        "id": "Osk4cHot3Lk4"
      },
      "source": [
        "g"
      ]
    },
    {
      "cell_type": "code",
      "metadata": {
        "colab": {
          "base_uri": "https://localhost:8080/",
          "height": 136
        },
        "id": "puYYm4WE3Xzw",
        "outputId": "22c99628-8e9b-4015-ad80-31d632a0f4c2"
      },
      "source": [
        "knn.pred=knn(data.frame(Weekly[train,]$Lag2), data.frame(Weekly[!train,]$Lag2), Direction[train], k=1)\n",
        "cm=table(knn.pred,Direction[!train])\n",
        "\n",
        "cm\n",
        "mean(knn.pred==Direction[!train])\n",
        "sensitivity(cm)\n",
        "specificity(cm)"
      ],
      "execution_count": 46,
      "outputs": [
        {
          "output_type": "display_data",
          "data": {
            "text/plain": [
              "        \n",
              "knn.pred Down Up\n",
              "    Down   21 30\n",
              "    Up     22 31"
            ]
          },
          "metadata": {}
        },
        {
          "output_type": "display_data",
          "data": {
            "text/plain": [
              "[1] 0.5"
            ],
            "text/latex": "0.5",
            "text/markdown": "0.5",
            "text/html": [
              "0.5"
            ]
          },
          "metadata": {}
        },
        {
          "output_type": "display_data",
          "data": {
            "text/plain": [
              "[1] 0.4883721"
            ],
            "text/latex": "0.488372093023256",
            "text/markdown": "0.488372093023256",
            "text/html": [
              "0.488372093023256"
            ]
          },
          "metadata": {}
        },
        {
          "output_type": "display_data",
          "data": {
            "text/plain": [
              "[1] 0.5081967"
            ],
            "text/latex": "0.508196721311475",
            "text/markdown": "0.508196721311475",
            "text/html": [
              "0.508196721311475"
            ]
          },
          "metadata": {}
        }
      ]
    },
    {
      "cell_type": "markdown",
      "metadata": {
        "id": "DopL0WC1412C"
      },
      "source": [
        "The overall fraction of correct predictions = 0.5\n",
        "\n",
        "sensitivity = 0.488372093023256\n",
        "\n",
        "specificity = 0.508196721311475"
      ]
    },
    {
      "cell_type": "markdown",
      "metadata": {
        "id": "HVBdxOcl5BJO"
      },
      "source": [
        "h"
      ]
    },
    {
      "cell_type": "code",
      "metadata": {
        "colab": {
          "base_uri": "https://localhost:8080/",
          "height": 136
        },
        "id": "cneGFi0S5geA",
        "outputId": "b43358f2-dda9-47e0-de5e-84f9b960ccc9"
      },
      "source": [
        "NaiveBayes.fits <- NaiveBayes(Direction~Lag2,data=Weekly[train,])\n",
        "NaiveBayes.pred=predict(NaiveBayes.fits,Weekly[!train,])\n",
        "cm=table(NaiveBayes.pred$class,Direction[!train])\n",
        "\n",
        "cm\n",
        "mean(NaiveBayes.pred$class==Direction[!train])\n",
        "sensitivity(cm)\n",
        "specificity(cm)"
      ],
      "execution_count": 54,
      "outputs": [
        {
          "output_type": "display_data",
          "data": {
            "text/plain": [
              "      \n",
              "       Down Up\n",
              "  Down    0  0\n",
              "  Up     43 61"
            ]
          },
          "metadata": {}
        },
        {
          "output_type": "display_data",
          "data": {
            "text/plain": [
              "[1] 0.5865385"
            ],
            "text/latex": "0.586538461538462",
            "text/markdown": "0.586538461538462",
            "text/html": [
              "0.586538461538462"
            ]
          },
          "metadata": {}
        },
        {
          "output_type": "display_data",
          "data": {
            "text/plain": [
              "[1] 0"
            ],
            "text/latex": "0",
            "text/markdown": "0",
            "text/html": [
              "0"
            ]
          },
          "metadata": {}
        },
        {
          "output_type": "display_data",
          "data": {
            "text/plain": [
              "[1] 1"
            ],
            "text/latex": "1",
            "text/markdown": "1",
            "text/html": [
              "1"
            ]
          },
          "metadata": {}
        }
      ]
    },
    {
      "cell_type": "markdown",
      "metadata": {
        "id": "96vymmTz8Zdg"
      },
      "source": [
        "The overall fraction of correct predictions = 0.586538461538462\n",
        "\n",
        "sensitivity = 0\n",
        "\n",
        "specificity = 1"
      ]
    },
    {
      "cell_type": "markdown",
      "metadata": {
        "id": "tURfMqc15CNu"
      },
      "source": [
        "i"
      ]
    },
    {
      "cell_type": "markdown",
      "metadata": {
        "id": "bQaUkL6b85yq"
      },
      "source": [
        "Based on the accuracy, logistic regression and LDA achieve the highest score of 0.625"
      ]
    },
    {
      "cell_type": "markdown",
      "metadata": {
        "id": "PNKlra8o7QHP"
      },
      "source": [
        "j"
      ]
    },
    {
      "cell_type": "code",
      "metadata": {
        "colab": {
          "base_uri": "https://localhost:8080/",
          "height": 612
        },
        "id": "MqZIqDUh7nAw",
        "outputId": "3a193969-6081-4d0a-ae85-bc7571ceab11"
      },
      "source": [
        "glm.fits=glm(Direction~Lag2+Lag1,data=Weekly[train,],family=binomial)\n",
        "summary(glm.fits)\n",
        "\n",
        "glm.probs=predict(glm.fits,Weekly[!train,],type=\"response\")\n",
        "glm.pred=rep(\"Down\",length(glm.probs))\n",
        "glm.pred[glm.probs>.5]=\"Up\"\n",
        "table(glm.pred,Direction[!train])\n",
        "cm=table(glm.pred,Direction[!train])\n",
        "\n",
        "cm\n",
        "mean(glm.pred==Direction[!train])\n",
        "sensitivity(cm)\n",
        "specificity(cm)"
      ],
      "execution_count": 62,
      "outputs": [
        {
          "output_type": "display_data",
          "data": {
            "text/plain": [
              "\n",
              "Call:\n",
              "glm(formula = Direction ~ Lag2 + Lag1, family = binomial, data = Weekly[train, \n",
              "    ])\n",
              "\n",
              "Deviance Residuals: \n",
              "    Min       1Q   Median       3Q      Max  \n",
              "-1.6149  -1.2565   0.9989   1.0875   1.5330  \n",
              "\n",
              "Coefficients:\n",
              "            Estimate Std. Error z value Pr(>|z|)   \n",
              "(Intercept)  0.21109    0.06456   3.269  0.00108 **\n",
              "Lag2         0.05384    0.02905   1.854  0.06379 . \n",
              "Lag1        -0.05421    0.02886  -1.878  0.06034 . \n",
              "---\n",
              "Signif. codes:  0 ‘***’ 0.001 ‘**’ 0.01 ‘*’ 0.05 ‘.’ 0.1 ‘ ’ 1\n",
              "\n",
              "(Dispersion parameter for binomial family taken to be 1)\n",
              "\n",
              "    Null deviance: 1354.7  on 984  degrees of freedom\n",
              "Residual deviance: 1347.0  on 982  degrees of freedom\n",
              "AIC: 1353\n",
              "\n",
              "Number of Fisher Scoring iterations: 4\n"
            ]
          },
          "metadata": {}
        },
        {
          "output_type": "display_data",
          "data": {
            "text/plain": [
              "        \n",
              "glm.pred Down Up\n",
              "    Down    7  8\n",
              "    Up     36 53"
            ]
          },
          "metadata": {}
        },
        {
          "output_type": "display_data",
          "data": {
            "text/plain": [
              "        \n",
              "glm.pred Down Up\n",
              "    Down    7  8\n",
              "    Up     36 53"
            ]
          },
          "metadata": {}
        },
        {
          "output_type": "display_data",
          "data": {
            "text/plain": [
              "[1] 0.5769231"
            ],
            "text/latex": "0.576923076923077",
            "text/markdown": "0.576923076923077",
            "text/html": [
              "0.576923076923077"
            ]
          },
          "metadata": {}
        },
        {
          "output_type": "display_data",
          "data": {
            "text/plain": [
              "[1] 0.1627907"
            ],
            "text/latex": "0.162790697674419",
            "text/markdown": "0.162790697674419",
            "text/html": [
              "0.162790697674419"
            ]
          },
          "metadata": {}
        },
        {
          "output_type": "display_data",
          "data": {
            "text/plain": [
              "[1] 0.8688525"
            ],
            "text/latex": "0.868852459016393",
            "text/markdown": "0.868852459016393",
            "text/html": [
              "0.868852459016393"
            ]
          },
          "metadata": {}
        }
      ]
    },
    {
      "cell_type": "code",
      "metadata": {
        "colab": {
          "base_uri": "https://localhost:8080/",
          "height": 408
        },
        "id": "v66SDfzl-i9m",
        "outputId": "3c25d7e5-82e9-462f-b5bb-ad06f1fe7e6a"
      },
      "source": [
        "lda.fits=lda(Direction~Lag2+I(Lag1^2),data=Weekly[train,])\n",
        "lda.fits\n",
        "\n",
        "lda.pred=predict(lda.fits,Weekly[!train,])\n",
        "cm=table(lda.pred$class,Direction[!train])\n",
        "\n",
        "cm\n",
        "mean(lda.pred$class==Direction[!train])\n",
        "sensitivity(cm)\n",
        "specificity(cm)"
      ],
      "execution_count": 65,
      "outputs": [
        {
          "output_type": "display_data",
          "data": {
            "text/plain": [
              "Call:\n",
              "lda(Direction ~ Lag2 + I(Lag1^2), data = Weekly[train, ])\n",
              "\n",
              "Prior probabilities of groups:\n",
              "     Down        Up \n",
              "0.4477157 0.5522843 \n",
              "\n",
              "Group means:\n",
              "            Lag2 I(Lag1^2)\n",
              "Down -0.03568254  4.964397\n",
              "Up    0.26036581  5.318940\n",
              "\n",
              "Coefficients of linear discriminants:\n",
              "                 LD1\n",
              "Lag2      0.45006708\n",
              "I(Lag1^2) 0.02767883"
            ]
          },
          "metadata": {}
        },
        {
          "output_type": "display_data",
          "data": {
            "text/plain": [
              "      \n",
              "       Down Up\n",
              "  Down    8  2\n",
              "  Up     35 59"
            ]
          },
          "metadata": {}
        },
        {
          "output_type": "display_data",
          "data": {
            "text/plain": [
              "[1] 0.6442308"
            ],
            "text/latex": "0.644230769230769",
            "text/markdown": "0.644230769230769",
            "text/html": [
              "0.644230769230769"
            ]
          },
          "metadata": {}
        },
        {
          "output_type": "display_data",
          "data": {
            "text/plain": [
              "[1] 0.1860465"
            ],
            "text/latex": "0.186046511627907",
            "text/markdown": "0.186046511627907",
            "text/html": [
              "0.186046511627907"
            ]
          },
          "metadata": {}
        },
        {
          "output_type": "display_data",
          "data": {
            "text/plain": [
              "[1] 0.9672131"
            ],
            "text/latex": "0.967213114754098",
            "text/markdown": "0.967213114754098",
            "text/html": [
              "0.967213114754098"
            ]
          },
          "metadata": {}
        }
      ]
    },
    {
      "cell_type": "code",
      "metadata": {
        "colab": {
          "base_uri": "https://localhost:8080/",
          "height": 323
        },
        "id": "voC0V2jh-sQX",
        "outputId": "871504bf-4d31-49b3-b37f-efcc618e0a53"
      },
      "source": [
        "qda.fits=qda(Direction~Lag2+I(Lag1^2),data=Weekly[train,])\n",
        "qda.fits\n",
        "\n",
        "qda.pred=predict(qda.fits,Weekly[!train,])\n",
        "cm=table(qda.pred$class,Direction[!train])\n",
        "\n",
        "cm\n",
        "mean(qda.pred$class==Direction[!train])\n",
        "sensitivity(cm)\n",
        "specificity(cm)"
      ],
      "execution_count": 66,
      "outputs": [
        {
          "output_type": "display_data",
          "data": {
            "text/plain": [
              "Call:\n",
              "qda(Direction ~ Lag2 + I(Lag1^2), data = Weekly[train, ])\n",
              "\n",
              "Prior probabilities of groups:\n",
              "     Down        Up \n",
              "0.4477157 0.5522843 \n",
              "\n",
              "Group means:\n",
              "            Lag2 I(Lag1^2)\n",
              "Down -0.03568254  4.964397\n",
              "Up    0.26036581  5.318940"
            ]
          },
          "metadata": {}
        },
        {
          "output_type": "display_data",
          "data": {
            "text/plain": [
              "      \n",
              "       Down Up\n",
              "  Down   32 40\n",
              "  Up     11 21"
            ]
          },
          "metadata": {}
        },
        {
          "output_type": "display_data",
          "data": {
            "text/plain": [
              "[1] 0.5096154"
            ],
            "text/latex": "0.509615384615385",
            "text/markdown": "0.509615384615385",
            "text/html": [
              "0.509615384615385"
            ]
          },
          "metadata": {}
        },
        {
          "output_type": "display_data",
          "data": {
            "text/plain": [
              "[1] 0.744186"
            ],
            "text/latex": "0.744186046511628",
            "text/markdown": "0.744186046511628",
            "text/html": [
              "0.744186046511628"
            ]
          },
          "metadata": {}
        },
        {
          "output_type": "display_data",
          "data": {
            "text/plain": [
              "[1] 0.3442623"
            ],
            "text/latex": "0.344262295081967",
            "text/markdown": "0.344262295081967",
            "text/html": [
              "0.344262295081967"
            ]
          },
          "metadata": {}
        }
      ]
    },
    {
      "cell_type": "code",
      "metadata": {
        "colab": {
          "base_uri": "https://localhost:8080/",
          "height": 136
        },
        "id": "7PLau_WK_bdD",
        "outputId": "cd17e5f0-98a9-4662-f09c-b457259a9015"
      },
      "source": [
        "knn.pred=knn(data.frame(Weekly[train,]$Lag2), data.frame(Weekly[!train,]$Lag2), Direction[train], k=5)\n",
        "cm=table(knn.pred,Direction[!train])\n",
        "\n",
        "cm\n",
        "mean(knn.pred==Direction[!train])\n",
        "sensitivity(cm)\n",
        "specificity(cm)"
      ],
      "execution_count": 67,
      "outputs": [
        {
          "output_type": "display_data",
          "data": {
            "text/plain": [
              "        \n",
              "knn.pred Down Up\n",
              "    Down   15 21\n",
              "    Up     28 40"
            ]
          },
          "metadata": {}
        },
        {
          "output_type": "display_data",
          "data": {
            "text/plain": [
              "[1] 0.5288462"
            ],
            "text/latex": "0.528846153846154",
            "text/markdown": "0.528846153846154",
            "text/html": [
              "0.528846153846154"
            ]
          },
          "metadata": {}
        },
        {
          "output_type": "display_data",
          "data": {
            "text/plain": [
              "[1] 0.3488372"
            ],
            "text/latex": "0.348837209302326",
            "text/markdown": "0.348837209302326",
            "text/html": [
              "0.348837209302326"
            ]
          },
          "metadata": {}
        },
        {
          "output_type": "display_data",
          "data": {
            "text/plain": [
              "[1] 0.6557377"
            ],
            "text/latex": "0.655737704918033",
            "text/markdown": "0.655737704918033",
            "text/html": [
              "0.655737704918033"
            ]
          },
          "metadata": {}
        }
      ]
    },
    {
      "cell_type": "code",
      "metadata": {
        "colab": {
          "base_uri": "https://localhost:8080/",
          "height": 136
        },
        "id": "dpO-4nM0_dhy",
        "outputId": "a225ccb0-cd88-43cc-9f69-6d8a953d4027"
      },
      "source": [
        "knn.pred=knn(data.frame(Weekly[train,]$Lag2), data.frame(Weekly[!train,]$Lag2), Direction[train], k=10)\n",
        "cm=table(knn.pred,Direction[!train])\n",
        "\n",
        "cm\n",
        "mean(knn.pred==Direction[!train])\n",
        "sensitivity(cm)\n",
        "specificity(cm)"
      ],
      "execution_count": 68,
      "outputs": [
        {
          "output_type": "display_data",
          "data": {
            "text/plain": [
              "        \n",
              "knn.pred Down Up\n",
              "    Down   16 21\n",
              "    Up     27 40"
            ]
          },
          "metadata": {}
        },
        {
          "output_type": "display_data",
          "data": {
            "text/plain": [
              "[1] 0.5384615"
            ],
            "text/latex": "0.538461538461538",
            "text/markdown": "0.538461538461538",
            "text/html": [
              "0.538461538461538"
            ]
          },
          "metadata": {}
        },
        {
          "output_type": "display_data",
          "data": {
            "text/plain": [
              "[1] 0.372093"
            ],
            "text/latex": "0.372093023255814",
            "text/markdown": "0.372093023255814",
            "text/html": [
              "0.372093023255814"
            ]
          },
          "metadata": {}
        },
        {
          "output_type": "display_data",
          "data": {
            "text/plain": [
              "[1] 0.6557377"
            ],
            "text/latex": "0.655737704918033",
            "text/markdown": "0.655737704918033",
            "text/html": [
              "0.655737704918033"
            ]
          },
          "metadata": {}
        }
      ]
    },
    {
      "cell_type": "code",
      "metadata": {
        "colab": {
          "base_uri": "https://localhost:8080/",
          "height": 136
        },
        "id": "a_9PuKfw_f9_",
        "outputId": "8fedf566-898b-498b-b0c5-c45e32fc91ab"
      },
      "source": [
        "knn.pred=knn(data.frame(Weekly[train,c('Lag1','Lag2')]), data.frame(Weekly[!train,c('Lag1','Lag2')]), Direction[train], k=1)\n",
        "cm=table(knn.pred,Direction[!train])\n",
        "\n",
        "cm\n",
        "mean(knn.pred==Direction[!train])\n",
        "sensitivity(cm)\n",
        "specificity(cm)"
      ],
      "execution_count": 76,
      "outputs": [
        {
          "output_type": "display_data",
          "data": {
            "text/plain": [
              "        \n",
              "knn.pred Down Up\n",
              "    Down   18 29\n",
              "    Up     25 32"
            ]
          },
          "metadata": {}
        },
        {
          "output_type": "display_data",
          "data": {
            "text/plain": [
              "[1] 0.4807692"
            ],
            "text/latex": "0.480769230769231",
            "text/markdown": "0.480769230769231",
            "text/html": [
              "0.480769230769231"
            ]
          },
          "metadata": {}
        },
        {
          "output_type": "display_data",
          "data": {
            "text/plain": [
              "[1] 0.4186047"
            ],
            "text/latex": "0.418604651162791",
            "text/markdown": "0.418604651162791",
            "text/html": [
              "0.418604651162791"
            ]
          },
          "metadata": {}
        },
        {
          "output_type": "display_data",
          "data": {
            "text/plain": [
              "[1] 0.5245902"
            ],
            "text/latex": "0.524590163934426",
            "text/markdown": "0.524590163934426",
            "text/html": [
              "0.524590163934426"
            ]
          },
          "metadata": {}
        }
      ]
    },
    {
      "cell_type": "markdown",
      "metadata": {
        "id": "II0FloakAOLh"
      },
      "source": [
        "Out of all experiments in j, the best accuracy is achieved using lda with score of 0.644230769230769. The variables and confusion matrix are shown above."
      ]
    },
    {
      "cell_type": "markdown",
      "metadata": {
        "id": "bWwsjcTA7RNe"
      },
      "source": [
        "# 4.14"
      ]
    },
    {
      "cell_type": "markdown",
      "metadata": {
        "id": "-nAI6veaAkNG"
      },
      "source": [
        "a"
      ]
    },
    {
      "cell_type": "code",
      "metadata": {
        "colab": {
          "base_uri": "https://localhost:8080/",
          "height": 425
        },
        "id": "OWKYCX7yAk6s",
        "outputId": "87931db5-57de-481e-83d3-0f6fa6cc94e6"
      },
      "source": [
        "mpg01 <- rep(0, nrow(Auto))\n",
        "mpg01[Auto$mpg > median(Auto$mpg)] <- 1\n",
        "mpg01 <- as.factor(mpg01)\n",
        "Auto <- data.frame(Auto, mpg01)\n",
        "\n",
        "summary(Auto)"
      ],
      "execution_count": 9,
      "outputs": [
        {
          "output_type": "display_data",
          "data": {
            "text/plain": [
              "      mpg          cylinders      displacement     horsepower        weight    \n",
              " Min.   : 9.00   Min.   :3.000   Min.   : 68.0   Min.   : 46.0   Min.   :1613  \n",
              " 1st Qu.:17.00   1st Qu.:4.000   1st Qu.:105.0   1st Qu.: 75.0   1st Qu.:2225  \n",
              " Median :22.75   Median :4.000   Median :151.0   Median : 93.5   Median :2804  \n",
              " Mean   :23.45   Mean   :5.472   Mean   :194.4   Mean   :104.5   Mean   :2978  \n",
              " 3rd Qu.:29.00   3rd Qu.:8.000   3rd Qu.:275.8   3rd Qu.:126.0   3rd Qu.:3615  \n",
              " Max.   :46.60   Max.   :8.000   Max.   :455.0   Max.   :230.0   Max.   :5140  \n",
              "                                                                               \n",
              "  acceleration        year           origin                      name    \n",
              " Min.   : 8.00   Min.   :70.00   Min.   :1.000   amc matador       :  5  \n",
              " 1st Qu.:13.78   1st Qu.:73.00   1st Qu.:1.000   ford pinto        :  5  \n",
              " Median :15.50   Median :76.00   Median :1.000   toyota corolla    :  5  \n",
              " Mean   :15.54   Mean   :75.98   Mean   :1.577   amc gremlin       :  4  \n",
              " 3rd Qu.:17.02   3rd Qu.:79.00   3rd Qu.:2.000   amc hornet        :  4  \n",
              " Max.   :24.80   Max.   :82.00   Max.   :3.000   chevrolet chevette:  4  \n",
              "                                                 (Other)           :365  \n",
              " mpg01  \n",
              " 0:196  \n",
              " 1:196  \n",
              "        \n",
              "        \n",
              "        \n",
              "        \n",
              "        "
            ]
          },
          "metadata": {}
        }
      ]
    },
    {
      "cell_type": "markdown",
      "metadata": {
        "id": "765wsVigOfIJ"
      },
      "source": [
        "b"
      ]
    },
    {
      "cell_type": "code",
      "metadata": {
        "colab": {
          "base_uri": "https://localhost:8080/",
          "height": 437
        },
        "id": "GzAldey2Of4A",
        "outputId": "ddaf9718-4db9-4090-b46e-6a3a58dd6f25"
      },
      "source": [
        "pairs(Auto)"
      ],
      "execution_count": 10,
      "outputs": [
        {
          "output_type": "display_data",
          "data": {
            "image/png": "[encoded data removed]",
            "text/plain": [
              "plot without title"
            ]
          },
          "metadata": {
            "image/png": {
              "width": 420,
              "height": 420
            }
          }
        }
      ]
    },
    {
      "cell_type": "code",
      "metadata": {
        "colab": {
          "base_uri": "https://localhost:8080/",
          "height": 437
        },
        "id": "iBcC5EliOxXW",
        "outputId": "72933c7a-d13f-4ddc-a36e-c9a707bd3544"
      },
      "source": [
        "par(mfrow = c(2, 4))\n",
        "boxplot(cylinders ~ mpg01, data = Auto)\n",
        "boxplot(displacement ~ mpg01, data = Auto)\n",
        "boxplot(horsepower ~ mpg01, data = Auto)\n",
        "boxplot(weight ~ mpg01, data = Auto)\n",
        "boxplot(acceleration ~ mpg01, data = Auto)\n",
        "boxplot(year ~ mpg01, data = Auto)\n",
        "boxplot(origin ~ mpg01, data = Auto)\n",
        "boxplot(name ~ mpg01, data = Auto)"
      ],
      "execution_count": 18,
      "outputs": [
        {
          "output_type": "display_data",
          "data": {
            "image/png": "[encoded data removed]",
            "text/plain": [
              "plot without title"
            ]
          },
          "metadata": {
            "image/png": {
              "width": 420,
              "height": 420
            }
          }
        }
      ]
    },
    {
      "cell_type": "markdown",
      "metadata": {
        "id": "4UXTReRxQZiy"
      },
      "source": [
        "cylinders, displacement, horsepower, and weight seem most likely to be useful in predicting mpg01"
      ]
    },
    {
      "cell_type": "markdown",
      "metadata": {
        "id": "sS1XpEzdQ6Gh"
      },
      "source": [
        "c"
      ]
    },
    {
      "cell_type": "code",
      "metadata": {
        "colab": {
          "base_uri": "https://localhost:8080/",
          "height": 68
        },
        "id": "AUQL28mQQ6vE",
        "outputId": "b36cd79a-1582-46d0-efb5-e6edda069c42"
      },
      "source": [
        "inTrain = createDataPartition(y=Auto$mpg01, p=0.5, list=FALSE)  \n",
        "train = Auto[inTrain,]\n",
        "test = Auto[-inTrain,]\n",
        "\n",
        "nrow(Auto)\n",
        "nrow(train)\n",
        "nrow(test)"
      ],
      "execution_count": 21,
      "outputs": [
        {
          "output_type": "display_data",
          "data": {
            "text/plain": [
              "[1] 392"
            ],
            "text/latex": "392",
            "text/markdown": "392",
            "text/html": [
              "392"
            ]
          },
          "metadata": {}
        },
        {
          "output_type": "display_data",
          "data": {
            "text/plain": [
              "[1] 196"
            ],
            "text/latex": "196",
            "text/markdown": "196",
            "text/html": [
              "196"
            ]
          },
          "metadata": {}
        },
        {
          "output_type": "display_data",
          "data": {
            "text/plain": [
              "[1] 196"
            ],
            "text/latex": "196",
            "text/markdown": "196",
            "text/html": [
              "196"
            ]
          },
          "metadata": {}
        }
      ]
    },
    {
      "cell_type": "markdown",
      "metadata": {
        "id": "CuQVt2GJVlz6"
      },
      "source": [
        "d"
      ]
    },
    {
      "cell_type": "code",
      "metadata": {
        "colab": {
          "base_uri": "https://localhost:8080/",
          "height": 34
        },
        "id": "qqwJTcNfVmUm",
        "outputId": "27383223-891b-4e46-8f7c-0cb2647f310e"
      },
      "source": [
        "lda.fits=lda(mpg01~cylinders + displacement + horsepower + weight,data=train)\n",
        "lda.pred=predict(lda.fits,test)\n",
        "mean(lda.pred$class!=test$mpg01)"
      ],
      "execution_count": 28,
      "outputs": [
        {
          "output_type": "display_data",
          "data": {
            "text/plain": [
              "[1] 0.1122449"
            ],
            "text/latex": "0.112244897959184",
            "text/markdown": "0.112244897959184",
            "text/html": [
              "0.112244897959184"
            ]
          },
          "metadata": {}
        }
      ]
    },
    {
      "cell_type": "markdown",
      "metadata": {
        "id": "EZVi6msgWsWy"
      },
      "source": [
        "test error of the model obtained = 0.112244897959184"
      ]
    },
    {
      "cell_type": "markdown",
      "metadata": {
        "id": "FwxqMFynW8WT"
      },
      "source": [
        "e"
      ]
    },
    {
      "cell_type": "code",
      "metadata": {
        "colab": {
          "base_uri": "https://localhost:8080/",
          "height": 34
        },
        "id": "vxcyEbJcW9J0",
        "outputId": "2301a8db-ac02-4847-b596-c4f6593dae4b"
      },
      "source": [
        "qda.fits=qda(mpg01~cylinders + displacement + horsepower + weight,data=train)\n",
        "qda.pred=predict(qda.fits,test)\n",
        "mean(qda.pred$class!=test$mpg01)"
      ],
      "execution_count": 29,
      "outputs": [
        {
          "output_type": "display_data",
          "data": {
            "text/plain": [
              "[1] 0.122449"
            ],
            "text/latex": "0.122448979591837",
            "text/markdown": "0.122448979591837",
            "text/html": [
              "0.122448979591837"
            ]
          },
          "metadata": {}
        }
      ]
    },
    {
      "cell_type": "markdown",
      "metadata": {
        "id": "Ts3SDAz1XQDj"
      },
      "source": [
        "test error of the model obtained = 0.122448979591837"
      ]
    },
    {
      "cell_type": "markdown",
      "metadata": {
        "id": "S-nI2LUOXSwz"
      },
      "source": [
        "f"
      ]
    },
    {
      "cell_type": "code",
      "metadata": {
        "colab": {
          "base_uri": "https://localhost:8080/",
          "height": 34
        },
        "id": "TN5qQIjIXibL",
        "outputId": "2ef43d2e-150a-49a7-c992-473039521116"
      },
      "source": [
        "glm.fits=glm(mpg01~cylinders + displacement + horsepower + weight,data=train,family=binomial)\n",
        "glm.probs=predict(glm.fits,test,type=\"response\")\n",
        "glm.pred=rep(0,length(glm.probs))\n",
        "glm.pred[glm.probs>.5]=1\n",
        "mean(glm.pred!=test$mpg01)"
      ],
      "execution_count": 31,
      "outputs": [
        {
          "output_type": "display_data",
          "data": {
            "text/plain": [
              "[1] 0.1122449"
            ],
            "text/latex": "0.112244897959184",
            "text/markdown": "0.112244897959184",
            "text/html": [
              "0.112244897959184"
            ]
          },
          "metadata": {}
        }
      ]
    },
    {
      "cell_type": "markdown",
      "metadata": {
        "id": "O9iFK4NPYTVX"
      },
      "source": [
        "test error of the model obtained = 0.112244897959184"
      ]
    },
    {
      "cell_type": "markdown",
      "metadata": {
        "id": "pwixcTjjYWms"
      },
      "source": [
        "g"
      ]
    },
    {
      "cell_type": "code",
      "metadata": {
        "colab": {
          "base_uri": "https://localhost:8080/",
          "height": 1000
        },
        "id": "5eLxOu-dYbmp",
        "outputId": "2887b445-b312-4946-e3e9-8b81f170cf7b"
      },
      "source": [
        "NaiveBayes.fits <- NaiveBayes(mpg01~cylinders + displacement + horsepower + weight,data=train)\n",
        "NaiveBayes.pred=predict(NaiveBayes.fits,test)\n",
        "mean(NaiveBayes.pred$class!=test$mpg01)"
      ],
      "execution_count": 42,
      "outputs": [
        {
          "output_type": "stream",
          "name": "stderr",
          "text": [
            "Warning message in FUN(X[[i]], ...):\n",
            "“Numerical 0 probability for all classes with observation 1”\n",
            "Warning message in FUN(X[[i]], ...):\n",
            "“Numerical 0 probability for all classes with observation 2”\n",
            "Warning message in FUN(X[[i]], ...):\n",
            "“Numerical 0 probability for all classes with observation 3”\n",
            "Warning message in FUN(X[[i]], ...):\n",
            "“Numerical 0 probability for all classes with observation 4”\n",
            "Warning message in FUN(X[[i]], ...):\n",
            "“Numerical 0 probability for all classes with observation 5”\n",
            "Warning message in FUN(X[[i]], ...):\n",
            "“Numerical 0 probability for all classes with observation 6”\n",
            "Warning message in FUN(X[[i]], ...):\n",
            "“Numerical 0 probability for all classes with observation 7”\n",
            "Warning message in FUN(X[[i]], ...):\n",
            "“Numerical 0 probability for all classes with observation 9”\n",
            "Warning message in FUN(X[[i]], ...):\n",
            "“Numerical 0 probability for all classes with observation 11”\n",
            "Warning message in FUN(X[[i]], ...):\n",
            "“Numerical 0 probability for all classes with observation 14”\n",
            "Warning message in FUN(X[[i]], ...):\n",
            "“Numerical 0 probability for all classes with observation 17”\n",
            "Warning message in FUN(X[[i]], ...):\n",
            "“Numerical 0 probability for all classes with observation 18”\n",
            "Warning message in FUN(X[[i]], ...):\n",
            "“Numerical 0 probability for all classes with observation 19”\n",
            "Warning message in FUN(X[[i]], ...):\n",
            "“Numerical 0 probability for all classes with observation 20”\n",
            "Warning message in FUN(X[[i]], ...):\n",
            "“Numerical 0 probability for all classes with observation 21”\n",
            "Warning message in FUN(X[[i]], ...):\n",
            "“Numerical 0 probability for all classes with observation 22”\n",
            "Warning message in FUN(X[[i]], ...):\n",
            "“Numerical 0 probability for all classes with observation 24”\n",
            "Warning message in FUN(X[[i]], ...):\n",
            "“Numerical 0 probability for all classes with observation 25”\n",
            "Warning message in FUN(X[[i]], ...):\n",
            "“Numerical 0 probability for all classes with observation 34”\n",
            "Warning message in FUN(X[[i]], ...):\n",
            "“Numerical 0 probability for all classes with observation 35”\n",
            "Warning message in FUN(X[[i]], ...):\n",
            "“Numerical 0 probability for all classes with observation 36”\n",
            "Warning message in FUN(X[[i]], ...):\n",
            "“Numerical 0 probability for all classes with observation 37”\n",
            "Warning message in FUN(X[[i]], ...):\n",
            "“Numerical 0 probability for all classes with observation 38”\n",
            "Warning message in FUN(X[[i]], ...):\n",
            "“Numerical 0 probability for all classes with observation 39”\n",
            "Warning message in FUN(X[[i]], ...):\n",
            "“Numerical 0 probability for all classes with observation 40”\n",
            "Warning message in FUN(X[[i]], ...):\n",
            "“Numerical 0 probability for all classes with observation 41”\n",
            "Warning message in FUN(X[[i]], ...):\n",
            "“Numerical 0 probability for all classes with observation 42”\n",
            "Warning message in FUN(X[[i]], ...):\n",
            "“Numerical 0 probability for all classes with observation 43”\n",
            "Warning message in FUN(X[[i]], ...):\n",
            "“Numerical 0 probability for all classes with observation 47”\n",
            "Warning message in FUN(X[[i]], ...):\n",
            "“Numerical 0 probability for all classes with observation 48”\n",
            "Warning message in FUN(X[[i]], ...):\n",
            "“Numerical 0 probability for all classes with observation 49”\n",
            "Warning message in FUN(X[[i]], ...):\n",
            "“Numerical 0 probability for all classes with observation 50”\n",
            "Warning message in FUN(X[[i]], ...):\n",
            "“Numerical 0 probability for all classes with observation 51”\n",
            "Warning message in FUN(X[[i]], ...):\n",
            "“Numerical 0 probability for all classes with observation 52”\n",
            "Warning message in FUN(X[[i]], ...):\n",
            "“Numerical 0 probability for all classes with observation 53”\n",
            "Warning message in FUN(X[[i]], ...):\n",
            "“Numerical 0 probability for all classes with observation 54”\n",
            "Warning message in FUN(X[[i]], ...):\n",
            "“Numerical 0 probability for all classes with observation 55”\n",
            "Warning message in FUN(X[[i]], ...):\n",
            "“Numerical 0 probability for all classes with observation 56”\n",
            "Warning message in FUN(X[[i]], ...):\n",
            "“Numerical 0 probability for all classes with observation 59”\n",
            "Warning message in FUN(X[[i]], ...):\n",
            "“Numerical 0 probability for all classes with observation 61”\n",
            "Warning message in FUN(X[[i]], ...):\n",
            "“Numerical 0 probability for all classes with observation 63”\n",
            "Warning message in FUN(X[[i]], ...):\n",
            "“Numerical 0 probability for all classes with observation 65”\n",
            "Warning message in FUN(X[[i]], ...):\n",
            "“Numerical 0 probability for all classes with observation 66”\n",
            "Warning message in FUN(X[[i]], ...):\n",
            "“Numerical 0 probability for all classes with observation 69”\n",
            "Warning message in FUN(X[[i]], ...):\n",
            "“Numerical 0 probability for all classes with observation 71”\n",
            "Warning message in FUN(X[[i]], ...):\n",
            "“Numerical 0 probability for all classes with observation 72”\n",
            "Warning message in FUN(X[[i]], ...):\n",
            "“Numerical 0 probability for all classes with observation 73”\n",
            "Warning message in FUN(X[[i]], ...):\n",
            "“Numerical 0 probability for all classes with observation 77”\n",
            "Warning message in FUN(X[[i]], ...):\n",
            "“Numerical 0 probability for all classes with observation 78”\n",
            "Warning message in FUN(X[[i]], ...):\n",
            "“Numerical 0 probability for all classes with observation 79”\n",
            "Warning message in FUN(X[[i]], ...):\n",
            "“Numerical 0 probability for all classes with observation 80”\n",
            "Warning message in FUN(X[[i]], ...):\n",
            "“Numerical 0 probability for all classes with observation 81”\n",
            "Warning message in FUN(X[[i]], ...):\n",
            "“Numerical 0 probability for all classes with observation 82”\n",
            "Warning message in FUN(X[[i]], ...):\n",
            "“Numerical 0 probability for all classes with observation 83”\n",
            "Warning message in FUN(X[[i]], ...):\n",
            "“Numerical 0 probability for all classes with observation 84”\n",
            "Warning message in FUN(X[[i]], ...):\n",
            "“Numerical 0 probability for all classes with observation 85”\n",
            "Warning message in FUN(X[[i]], ...):\n",
            "“Numerical 0 probability for all classes with observation 90”\n",
            "Warning message in FUN(X[[i]], ...):\n",
            "“Numerical 0 probability for all classes with observation 94”\n",
            "Warning message in FUN(X[[i]], ...):\n",
            "“Numerical 0 probability for all classes with observation 98”\n",
            "Warning message in FUN(X[[i]], ...):\n",
            "“Numerical 0 probability for all classes with observation 99”\n",
            "Warning message in FUN(X[[i]], ...):\n",
            "“Numerical 0 probability for all classes with observation 100”\n",
            "Warning message in FUN(X[[i]], ...):\n",
            "“Numerical 0 probability for all classes with observation 103”\n",
            "Warning message in FUN(X[[i]], ...):\n",
            "“Numerical 0 probability for all classes with observation 104”\n",
            "Warning message in FUN(X[[i]], ...):\n",
            "“Numerical 0 probability for all classes with observation 105”\n",
            "Warning message in FUN(X[[i]], ...):\n",
            "“Numerical 0 probability for all classes with observation 106”\n",
            "Warning message in FUN(X[[i]], ...):\n",
            "“Numerical 0 probability for all classes with observation 107”\n",
            "Warning message in FUN(X[[i]], ...):\n",
            "“Numerical 0 probability for all classes with observation 108”\n",
            "Warning message in FUN(X[[i]], ...):\n",
            "“Numerical 0 probability for all classes with observation 109”\n",
            "Warning message in FUN(X[[i]], ...):\n",
            "“Numerical 0 probability for all classes with observation 110”\n",
            "Warning message in FUN(X[[i]], ...):\n",
            "“Numerical 0 probability for all classes with observation 113”\n",
            "Warning message in FUN(X[[i]], ...):\n",
            "“Numerical 0 probability for all classes with observation 114”\n",
            "Warning message in FUN(X[[i]], ...):\n",
            "“Numerical 0 probability for all classes with observation 115”\n",
            "Warning message in FUN(X[[i]], ...):\n",
            "“Numerical 0 probability for all classes with observation 116”\n",
            "Warning message in FUN(X[[i]], ...):\n",
            "“Numerical 0 probability for all classes with observation 117”\n",
            "Warning message in FUN(X[[i]], ...):\n",
            "“Numerical 0 probability for all classes with observation 118”\n",
            "Warning message in FUN(X[[i]], ...):\n",
            "“Numerical 0 probability for all classes with observation 119”\n",
            "Warning message in FUN(X[[i]], ...):\n",
            "“Numerical 0 probability for all classes with observation 120”\n",
            "Warning message in FUN(X[[i]], ...):\n",
            "“Numerical 0 probability for all classes with observation 121”\n",
            "Warning message in FUN(X[[i]], ...):\n",
            "“Numerical 0 probability for all classes with observation 122”\n",
            "Warning message in FUN(X[[i]], ...):\n",
            "“Numerical 0 probability for all classes with observation 127”\n",
            "Warning message in FUN(X[[i]], ...):\n",
            "“Numerical 0 probability for all classes with observation 129”\n",
            "Warning message in FUN(X[[i]], ...):\n",
            "“Numerical 0 probability for all classes with observation 132”\n",
            "Warning message in FUN(X[[i]], ...):\n",
            "“Numerical 0 probability for all classes with observation 133”\n",
            "Warning message in FUN(X[[i]], ...):\n",
            "“Numerical 0 probability for all classes with observation 134”\n",
            "Warning message in FUN(X[[i]], ...):\n",
            "“Numerical 0 probability for all classes with observation 135”\n",
            "Warning message in FUN(X[[i]], ...):\n",
            "“Numerical 0 probability for all classes with observation 136”\n",
            "Warning message in FUN(X[[i]], ...):\n",
            "“Numerical 0 probability for all classes with observation 137”\n",
            "Warning message in FUN(X[[i]], ...):\n",
            "“Numerical 0 probability for all classes with observation 138”\n",
            "Warning message in FUN(X[[i]], ...):\n",
            "“Numerical 0 probability for all classes with observation 139”\n",
            "Warning message in FUN(X[[i]], ...):\n",
            "“Numerical 0 probability for all classes with observation 140”\n",
            "Warning message in FUN(X[[i]], ...):\n",
            "“Numerical 0 probability for all classes with observation 142”\n",
            "Warning message in FUN(X[[i]], ...):\n",
            "“Numerical 0 probability for all classes with observation 144”\n",
            "Warning message in FUN(X[[i]], ...):\n",
            "“Numerical 0 probability for all classes with observation 145”\n",
            "Warning message in FUN(X[[i]], ...):\n",
            "“Numerical 0 probability for all classes with observation 146”\n",
            "Warning message in FUN(X[[i]], ...):\n",
            "“Numerical 0 probability for all classes with observation 148”\n",
            "Warning message in FUN(X[[i]], ...):\n",
            "“Numerical 0 probability for all classes with observation 149”\n",
            "Warning message in FUN(X[[i]], ...):\n",
            "“Numerical 0 probability for all classes with observation 150”\n",
            "Warning message in FUN(X[[i]], ...):\n",
            "“Numerical 0 probability for all classes with observation 154”\n",
            "Warning message in FUN(X[[i]], ...):\n",
            "“Numerical 0 probability for all classes with observation 160”\n",
            "Warning message in FUN(X[[i]], ...):\n",
            "“Numerical 0 probability for all classes with observation 161”\n",
            "Warning message in FUN(X[[i]], ...):\n",
            "“Numerical 0 probability for all classes with observation 165”\n",
            "Warning message in FUN(X[[i]], ...):\n",
            "“Numerical 0 probability for all classes with observation 166”\n",
            "Warning message in FUN(X[[i]], ...):\n",
            "“Numerical 0 probability for all classes with observation 167”\n",
            "Warning message in FUN(X[[i]], ...):\n",
            "“Numerical 0 probability for all classes with observation 171”\n",
            "Warning message in FUN(X[[i]], ...):\n",
            "“Numerical 0 probability for all classes with observation 179”\n",
            "Warning message in FUN(X[[i]], ...):\n",
            "“Numerical 0 probability for all classes with observation 180”\n",
            "Warning message in FUN(X[[i]], ...):\n",
            "“Numerical 0 probability for all classes with observation 181”\n",
            "Warning message in FUN(X[[i]], ...):\n",
            "“Numerical 0 probability for all classes with observation 182”\n",
            "Warning message in FUN(X[[i]], ...):\n",
            "“Numerical 0 probability for all classes with observation 183”\n",
            "Warning message in FUN(X[[i]], ...):\n",
            "“Numerical 0 probability for all classes with observation 190”\n",
            "Warning message in FUN(X[[i]], ...):\n",
            "“Numerical 0 probability for all classes with observation 191”\n",
            "Warning message in FUN(X[[i]], ...):\n",
            "“Numerical 0 probability for all classes with observation 193”\n"
          ]
        },
        {
          "output_type": "display_data",
          "data": {
            "text/plain": [
              "[1] 0.1122449"
            ],
            "text/latex": "0.112244897959184",
            "text/markdown": "0.112244897959184",
            "text/html": [
              "0.112244897959184"
            ]
          },
          "metadata": {}
        }
      ]
    },
    {
      "cell_type": "markdown",
      "metadata": {
        "id": "vRzbsNBSfmLW"
      },
      "source": [
        "test error of the model obtained = 0.112244897959184"
      ]
    },
    {
      "cell_type": "markdown",
      "metadata": {
        "id": "HXTsf5_6iXtL"
      },
      "source": [
        "h"
      ]
    },
    {
      "cell_type": "code",
      "metadata": {
        "colab": {
          "base_uri": "https://localhost:8080/",
          "height": 34
        },
        "id": "Rky8iQnekkcY",
        "outputId": "305ad579-e9f4-4d50-c8bd-dc648679854c"
      },
      "source": [
        "knn.pred=knn(train[,c(\"cylinders\",\"displacement\",\"horsepower\",\"weight\")], test[,c(\"cylinders\",\"displacement\",\"horsepower\",\"weight\")], train$mpg01, k=1)\n",
        "mean(knn.pred!=test$mpg01)"
      ],
      "execution_count": 47,
      "outputs": [
        {
          "output_type": "display_data",
          "data": {
            "text/plain": [
              "[1] 0.1326531"
            ],
            "text/latex": "0.13265306122449",
            "text/markdown": "0.13265306122449",
            "text/html": [
              "0.13265306122449"
            ]
          },
          "metadata": {}
        }
      ]
    },
    {
      "cell_type": "code",
      "metadata": {
        "colab": {
          "base_uri": "https://localhost:8080/",
          "height": 34
        },
        "id": "EHLAbJA4iYZW",
        "outputId": "3e0a3ff7-62ba-45b6-a8d0-38e6514bb7fb"
      },
      "source": [
        "knn.pred=knn(train[,c(\"cylinders\",\"displacement\",\"horsepower\",\"weight\")], test[,c(\"cylinders\",\"displacement\",\"horsepower\",\"weight\")], train$mpg01, k=3)\n",
        "mean(knn.pred!=test$mpg01)"
      ],
      "execution_count": 48,
      "outputs": [
        {
          "output_type": "display_data",
          "data": {
            "text/plain": [
              "[1] 0.122449"
            ],
            "text/latex": "0.122448979591837",
            "text/markdown": "0.122448979591837",
            "text/html": [
              "0.122448979591837"
            ]
          },
          "metadata": {}
        }
      ]
    },
    {
      "cell_type": "code",
      "metadata": {
        "colab": {
          "base_uri": "https://localhost:8080/",
          "height": 34
        },
        "id": "EWGcbTX5lI3A",
        "outputId": "b26eabe9-51e3-4b30-ea87-44d6796fde05"
      },
      "source": [
        "knn.pred=knn(train[,c(\"cylinders\",\"displacement\",\"horsepower\",\"weight\")], test[,c(\"cylinders\",\"displacement\",\"horsepower\",\"weight\")], train$mpg01, k=5)\n",
        "mean(knn.pred!=test$mpg01)"
      ],
      "execution_count": 50,
      "outputs": [
        {
          "output_type": "display_data",
          "data": {
            "text/plain": [
              "[1] 0.1326531"
            ],
            "text/latex": "0.13265306122449",
            "text/markdown": "0.13265306122449",
            "text/html": [
              "0.13265306122449"
            ]
          },
          "metadata": {}
        }
      ]
    },
    {
      "cell_type": "code",
      "metadata": {
        "colab": {
          "base_uri": "https://localhost:8080/",
          "height": 34
        },
        "id": "RDu1lMjUkl7K",
        "outputId": "31265824-ffdb-447e-ccfe-1903ca59dead"
      },
      "source": [
        "knn.pred=knn(train[,c(\"cylinders\",\"displacement\",\"horsepower\",\"weight\")], test[,c(\"cylinders\",\"displacement\",\"horsepower\",\"weight\")], train$mpg01, k=10)\n",
        "mean(knn.pred!=test$mpg01)"
      ],
      "execution_count": 46,
      "outputs": [
        {
          "output_type": "display_data",
          "data": {
            "text/plain": [
              "[1] 0.1377551"
            ],
            "text/latex": "0.137755102040816",
            "text/markdown": "0.137755102040816",
            "text/html": [
              "0.137755102040816"
            ]
          },
          "metadata": {}
        }
      ]
    },
    {
      "cell_type": "markdown",
      "metadata": {
        "id": "Da-PIia5kr2L"
      },
      "source": [
        "test error of the model obtained = 0.13265306122449, 0.122448979591837, 0.13265306122449, 0.137755102040816 for k = 1,3,5,10 respectively. By experiment above, knn performs best when k = 3."
      ]
    },
    {
      "cell_type": "markdown",
      "metadata": {
        "id": "DbDXBMFPZc6k"
      },
      "source": [
        "# 5.2"
      ]
    },
    {
      "cell_type": "markdown",
      "metadata": {
        "id": "HUPlL9itZnxr"
      },
      "source": [
        "d"
      ]
    },
    {
      "cell_type": "code",
      "metadata": {
        "colab": {
          "base_uri": "https://localhost:8080/",
          "height": 34
        },
        "id": "u3P5TFEbZS5M",
        "outputId": "a269e501-9913-45fc-ddc4-2dccec6f6910"
      },
      "source": [
        "n = 5\n",
        "\n",
        "p_j_in_sample <- function(n) {\n",
        "    return(1 - (1 - 1/n) ^ n)\n",
        "}\n",
        "\n",
        "p_j_in_sample(n)"
      ],
      "execution_count": 6,
      "outputs": [
        {
          "output_type": "display_data",
          "data": {
            "text/plain": [
              "[1] 0.67232"
            ],
            "text/latex": "0.67232",
            "text/markdown": "0.67232",
            "text/html": [
              "0.67232"
            ]
          },
          "metadata": {}
        }
      ]
    },
    {
      "cell_type": "markdown",
      "metadata": {
        "id": "8uTNonRaai7I"
      },
      "source": [
        "e"
      ]
    },
    {
      "cell_type": "code",
      "metadata": {
        "colab": {
          "base_uri": "https://localhost:8080/",
          "height": 34
        },
        "id": "FyNUiAWiakWj",
        "outputId": "184e0676-7fb8-4c67-b4b8-7dde951a9e6b"
      },
      "source": [
        "n = 100\n",
        "\n",
        "p_j_in_sample(n)"
      ],
      "execution_count": 7,
      "outputs": [
        {
          "output_type": "display_data",
          "data": {
            "text/plain": [
              "[1] 0.6339677"
            ],
            "text/latex": "0.633967658726771",
            "text/markdown": "0.633967658726771",
            "text/html": [
              "0.633967658726771"
            ]
          },
          "metadata": {}
        }
      ]
    },
    {
      "cell_type": "markdown",
      "metadata": {
        "id": "Xa0KKi7la-B-"
      },
      "source": [
        "f"
      ]
    },
    {
      "cell_type": "code",
      "metadata": {
        "colab": {
          "base_uri": "https://localhost:8080/",
          "height": 34
        },
        "id": "cIY65FNoa-jr",
        "outputId": "7b3c6ef3-73fd-4e5e-87f5-f85e97c2a6ee"
      },
      "source": [
        "n = 10000\n",
        "\n",
        "p_j_in_sample(n)"
      ],
      "execution_count": 8,
      "outputs": [
        {
          "output_type": "display_data",
          "data": {
            "text/plain": [
              "[1] 0.632139"
            ],
            "text/latex": "0.63213895356703",
            "text/markdown": "0.63213895356703",
            "text/html": [
              "0.63213895356703"
            ]
          },
          "metadata": {}
        }
      ]
    },
    {
      "cell_type": "markdown",
      "metadata": {
        "id": "m8SHe9DsbWZ2"
      },
      "source": [
        "g"
      ]
    },
    {
      "cell_type": "code",
      "metadata": {
        "colab": {
          "base_uri": "https://localhost:8080/",
          "height": 437
        },
        "id": "QJdIvDwQbXLe",
        "outputId": "fd01ce94-e94d-4c72-a3f2-a2c4976d2a0b"
      },
      "source": [
        "n = 1:100000\n",
        "plot(n, p_j_in_sample(n), ylim = c(0,1))"
      ],
      "execution_count": 12,
      "outputs": [
        {
          "output_type": "display_data",
          "data": {
            "image/png": "[encoded data removed]",
            "text/plain": [
              "plot without title"
            ]
          },
          "metadata": {
            "image/png": {
              "width": 420,
              "height": 420
            }
          }
        }
      ]
    },
    {
      "cell_type": "markdown",
      "metadata": {
        "id": "_ozqN2CqchWu"
      },
      "source": [
        "The plot above shows that the probability that the jth observation is in the bootstrap sample remains around 0.632 as n goes to large values, i.e. lim n->inf 1-(1-1/n)^n = 1-1/e = 0.632."
      ]
    },
    {
      "cell_type": "markdown",
      "metadata": {
        "id": "ymIgd3ejfJc3"
      },
      "source": [
        "h"
      ]
    },
    {
      "cell_type": "code",
      "metadata": {
        "colab": {
          "base_uri": "https://localhost:8080/",
          "height": 34
        },
        "id": "Vw9haCdJeGEh",
        "outputId": "bd8636f4-e70b-489d-ae57-56679d6f2abb"
      },
      "source": [
        "store <- rep(NA, 10000)\n",
        "for(i in 1:10000){\n",
        "    store[i] <- sum(sample(1:100, rep=TRUE) == 4) > 0 \n",
        "}\n",
        "mean(store)"
      ],
      "execution_count": 15,
      "outputs": [
        {
          "output_type": "display_data",
          "data": {
            "text/plain": [
              "[1] 0.6317"
            ],
            "text/latex": "0.6317",
            "text/markdown": "0.6317",
            "text/html": [
              "0.6317"
            ]
          },
          "metadata": {}
        }
      ]
    },
    {
      "cell_type": "markdown",
      "metadata": {
        "id": "EKmKziNRfxyA"
      },
      "source": [
        "In this experiment, we estimates the probability of a bootstrap sample of size n = 100 contains the jth observation. It is found that the value is around the probability found in Q2e and the plot."
      ]
    },
    {
      "cell_type": "markdown",
      "metadata": {
        "id": "Qs945D_Q7U8j"
      },
      "source": [
        "# 5.5"
      ]
    },
    {
      "cell_type": "code",
      "metadata": {
        "id": "cvySAZrT7clr"
      },
      "source": [
        ""
      ],
      "execution_count": null,
      "outputs": []
    },
    {
      "cell_type": "markdown",
      "metadata": {
        "id": "dXPyx_fE7Yx4"
      },
      "source": [
        "# 5.6"
      ]
    },
    {
      "cell_type": "code",
      "metadata": {
        "id": "ph_2yK_r7dUG"
      },
      "source": [
        ""
      ],
      "execution_count": null,
      "outputs": []
    }
  ]
}