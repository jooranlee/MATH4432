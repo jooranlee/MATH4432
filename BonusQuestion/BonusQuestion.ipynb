{
  "nbformat": 4,
  "nbformat_minor": 0,
  "metadata": {
    "colab": {
      "name": "BonusQuestion.ipynb",
      "provenance": [],
      "collapsed_sections": []
    },
    "kernelspec": {
      "display_name": "R",
      "name": "ir"
    },
    "language_info": {
      "name": "R"
    }
  },
  "cells": [
    {
      "cell_type": "code",
      "metadata": {
        "colab": {
          "base_uri": "https://localhost:8080/"
        },
        "id": "UfD1RQqVjkRD",
        "outputId": "6dc1275e-8791-4f89-804c-47defb106e69"
      },
      "source": [
        "install.packages(\"HistData\")\n",
        "library(HistData)\n",
        "\n",
        "install.packages(\"FNN\")\n",
        "library(FNN)"
      ],
      "execution_count": 1,
      "outputs": [
        {
          "output_type": "stream",
          "name": "stderr",
          "text": [
            "Installing package into ‘/usr/local/lib/R/site-library’\n",
            "(as ‘lib’ is unspecified)\n",
            "\n",
            "Installing package into ‘/usr/local/lib/R/site-library’\n",
            "(as ‘lib’ is unspecified)\n",
            "\n"
          ]
        }
      ]
    },
    {
      "cell_type": "markdown",
      "metadata": {
        "id": "9EMAJzAloKSF"
      },
      "source": [
        "This report presents an attempt to predict childHeight by combining the prediction of different models or also known as ensemble learning. Instead of picking several new models, I simply use the baseline model, linear regression, as one of the models and one of the simplest and best-known non-parametric methods, KNN regression, as the other one. In this experiment, I would like to see how far I can improve the accuracy of linear regression by taking the prediction by KNN regression into consideration before we conclude with the final predicted childHeight. Followings the the steps of the experiments:"
      ]
    },
    {
      "cell_type": "markdown",
      "metadata": {
        "id": "HWUFDt806ONw"
      },
      "source": [
        "1. Add a new variable gender_bin to allow knn to measure the distance of the father, mother, and also gender"
      ]
    },
    {
      "cell_type": "code",
      "metadata": {
        "id": "7AH_Uz5ksgeh",
        "colab": {
          "base_uri": "https://localhost:8080/"
        },
        "outputId": "da0adb72-dacb-4572-e552-c7dba00eb10f"
      },
      "source": [
        "data(GaltonFamilies)\n",
        "gender_bin <- rep(0, nrow(GaltonFamilies))\n",
        "gender_bin[GaltonFamilies$gender == 'male'] <- 1\n",
        "GaltonFamilies <- data.frame(GaltonFamilies, gender_bin)\n",
        "\n",
        "print(head(GaltonFamilies))"
      ],
      "execution_count": 12,
      "outputs": [
        {
          "output_type": "stream",
          "name": "stdout",
          "text": [
            "  family father mother midparentHeight children childNum gender childHeight\n",
            "1    001   78.5   67.0           75.43        4        1   male        73.2\n",
            "2    001   78.5   67.0           75.43        4        2 female        69.2\n",
            "3    001   78.5   67.0           75.43        4        3 female        69.0\n",
            "4    001   78.5   67.0           75.43        4        4 female        69.0\n",
            "5    002   75.5   66.5           73.66        4        1   male        73.5\n",
            "6    002   75.5   66.5           73.66        4        2   male        72.5\n",
            "  gender_bin\n",
            "1          1\n",
            "2          0\n",
            "3          0\n",
            "4          0\n",
            "5          1\n",
            "6          1\n"
          ]
        }
      ]
    },
    {
      "cell_type": "markdown",
      "metadata": {
        "id": "ldJOij7c6lg7"
      },
      "source": [
        "2. Sample train and test set. Since there are multiple children sampled from each family, I further preprocess the traindata such that for each family there is only one child per gender. This is to prevent high leverage of a family or children from the same family ."
      ]
    },
    {
      "cell_type": "code",
      "metadata": {
        "colab": {
          "base_uri": "https://localhost:8080/"
        },
        "id": "QhVvCcgv6mFc",
        "outputId": "ba02c0ab-4ba5-4cd2-bc45-7a165e550add"
      },
      "source": [
        "n <- dim(GaltonFamilies)[1]\n",
        "ntest <- 200\n",
        "train <- sample(1:n, n-ntest, replace = FALSE) \n",
        "\n",
        "temp_traindata <- GaltonFamilies[train,c(\"family\", \"father\", \"mother\", \"gender_bin\", \"childHeight\")]\n",
        "traindata<-temp_traindata[0,]\n",
        "for (f in unique(temp_traindata$family)){\n",
        "    fam = subset(temp_traindata, family==f)\n",
        "    for (g in unique(fam$gender_bin)){\n",
        "        gen = subset(fam, gender_bin==g)\n",
        "        df<-data.frame(mean(gen$father),mean(gen$mother), g, mean(gen$childHeight))\n",
        "        names(df)<-c(\"father\",\"mother\",\"gender_bin\",\"childHeight\")\n",
        "        traindata = rbind(traindata, df)\n",
        "    }\n",
        "}\n",
        "testdata <- GaltonFamilies[-train,c(\"father\", \"mother\", \"gender_bin\", \"childHeight\")]\n",
        "\n",
        "print(head(temp_traindata[order(temp_traindata$family),]))\n",
        "print(head(traindata))\n",
        "print(head(testdata))"
      ],
      "execution_count": 21,
      "outputs": [
        {
          "output_type": "stream",
          "name": "stdout",
          "text": [
            "  family father mother gender_bin childHeight\n",
            "3    001   78.5   67.0          0        69.0\n",
            "1    001   78.5   67.0          1        73.2\n",
            "6    002   75.5   66.5          1        72.5\n",
            "8    002   75.5   66.5          0        65.5\n",
            "7    002   75.5   66.5          0        65.5\n",
            "5    002   75.5   66.5          1        73.5\n",
            "  father mother gender_bin childHeight\n",
            "1     69   68.5          1    72.00000\n",
            "2     69   68.5          0    64.91667\n",
            "3     70   67.0          1    69.00000\n",
            "4     70   67.0          0    63.33333\n",
            "5     68   64.0          0    64.00000\n",
            "6     68   64.0          1    68.50000\n",
            "   father mother gender_bin childHeight\n",
            "2    78.5   67.0          0        69.2\n",
            "4    78.5   67.0          0        69.0\n",
            "11   75.0   64.0          1        70.5\n",
            "14   75.0   64.0          0        64.5\n",
            "19   75.0   58.5          0        66.5\n",
            "20   75.0   58.5          0        62.5\n"
          ]
        }
      ]
    },
    {
      "cell_type": "markdown",
      "metadata": {
        "id": "fEbTq8Td6hhf"
      },
      "source": [
        "3. Fit the baseline model and the knn regression using all the variables, namely father, mother, and gender_bin. The parameter of KNN is found by running a few experiments that achieves the best accuracy. The 3 nearest neighbors are extracted beforehand for future usage."
      ]
    },
    {
      "cell_type": "code",
      "metadata": {
        "colab": {
          "base_uri": "https://localhost:8080/"
        },
        "id": "iQrb5csB71-u",
        "outputId": "c2bf9ab2-44c7-4800-bb44-16c75903ecae"
      },
      "source": [
        "fit_baseline <- lm(childHeight ~ ., data = traindata)\n",
        "\n",
        "knn_k = 3\n",
        "k <- knn(\n",
        "    traindata[,c(\"father\", \"mother\", \"gender_bin\")], \n",
        "    testdata[,c(\"father\", \"mother\", \"gender_bin\")], \n",
        "    traindata[,\"childHeight\"], \n",
        "    k = knn_k)\n",
        "indices = attr(k, \"nn.index\")\n",
        "height_baseline_pred <- c(0,ntest)\n",
        "\n",
        "print(head(indices))"
      ],
      "execution_count": 4,
      "outputs": [
        {
          "output_type": "stream",
          "name": "stdout",
          "text": [
            "     [,1] [,2] [,3]\n",
            "[1,]  147  148   89\n",
            "[2,]  286  320  287\n",
            "[3,]  286  320  287\n",
            "[4,]   84   85  319\n",
            "[5,]   85   84  319\n",
            "[6,]  267  301  266\n"
          ]
        }
      ]
    },
    {
      "cell_type": "markdown",
      "metadata": {
        "id": "dSj_xdob8ZyS"
      },
      "source": [
        "4. Predict the childHeight and measure the MSE. Although KNN would try to find the nearest neighbors and I have set the gender_bin as one of the distance, it could still found that the nearest neighbor is of a different gender. In this case, there may be no nearest neighbors of the same gender. As mentioned in lecture, male is generally 8% taller than female. Thus, the prediction by KNN may need to be adjusted to match the gender of the testdata. In this experiment, I try to apply different weightings based on the number of different gender of those of the nearest neighbors and the testdata. Finally, I use the weighted average to combine the prediction from the baseline model and KNN regression, where each weight is also found by experiment. "
      ]
    },
    {
      "cell_type": "code",
      "metadata": {
        "colab": {
          "base_uri": "https://localhost:8080/"
        },
        "id": "ewgqLiHH8eD9",
        "outputId": "e715960b-8d64-458d-9d1c-b46892390569"
      },
      "source": [
        "for (j in 1:ntest){\n",
        "    pred = predict(fit_baseline,testdata[j,])\n",
        "    diff_gen = abs(knn_k*testdata[j,]$gender_bin - sum(traindata[indices[j,],]$gender_bin))\n",
        "    if (diff_gen > (knn_k-1)){\n",
        "        alpha = 1\n",
        "    }\n",
        "    else if (diff_gen > (knn_k-2)){\n",
        "        alpha = 0.99\n",
        "    }\n",
        "    else if (diff_gen > (knn_k-3)){\n",
        "        alpha = 0.8\n",
        "    }\n",
        "    else{\n",
        "        alpha = 0.76\n",
        "    }\n",
        "    height_baseline_pred[j] <- alpha*pred + (1-alpha)*mean(traindata[indices[j,],]$childHeight)\n",
        "}\n",
        "\n",
        "print(mean((testdata$childHeight - height_baseline_pred)^2))"
      ],
      "execution_count": 5,
      "outputs": [
        {
          "output_type": "stream",
          "name": "stdout",
          "text": [
            "[1] 4.681863\n"
          ]
        }
      ]
    },
    {
      "cell_type": "markdown",
      "metadata": {
        "id": "7BnLY7ObAA1h"
      },
      "source": [
        "In the plot below, we observe that we can improve the baseline model by combining the prediction with those of KNN regression."
      ]
    },
    {
      "cell_type": "markdown",
      "metadata": {
        "id": "_4cW7zp7nt9R"
      },
      "source": [
        "# based on 100 replications"
      ]
    },
    {
      "cell_type": "code",
      "metadata": {
        "colab": {
          "base_uri": "https://localhost:8080/",
          "height": 34
        },
        "id": "_hZkTUxYQMxR",
        "outputId": "cb25ac63-5716-48eb-8ce6-fac0bdda2e0f"
      },
      "source": [
        "nrep <- 100\n",
        "MSE_bonus <- data.frame(matrix(0,nrep,1))\n",
        "names(MSE_bonus) <- c(\"lm~knn\")\n",
        "\n",
        "set.seed(1)\n",
        "\n",
        "for (i in 1:nrep){\n",
        "    #1\n",
        "    data(GaltonFamilies)\n",
        "    gender_bin <- rep(0, nrow(GaltonFamilies))\n",
        "    gender_bin[GaltonFamilies$gender == 'male'] <- 1\n",
        "    GaltonFamilies <- data.frame(GaltonFamilies, gender_bin)\n",
        "\n",
        "    #2\n",
        "    n <- dim(GaltonFamilies)[1]\n",
        "    ntest <- 200\n",
        "    train <- sample(1:n, n-ntest, replace = FALSE) \n",
        "\n",
        "    temp_traindata <- GaltonFamilies[train,c(\"family\", \"father\", \"mother\", \"gender_bin\", \"childHeight\")]\n",
        "    traindata<-temp_traindata[0,]\n",
        "    for (f in unique(temp_traindata$family)){\n",
        "        fam = subset(temp_traindata, family==f)\n",
        "        for (g in unique(fam$gender_bin)){\n",
        "            gen = subset(fam, gender_bin==g)\n",
        "            df<-data.frame(mean(gen$father),mean(gen$mother), g, mean(gen$childHeight))\n",
        "            names(df)<-c(\"father\",\"mother\",\"gender_bin\",\"childHeight\")\n",
        "            traindata = rbind(traindata, df)\n",
        "        }\n",
        "    }\n",
        "    testdata <- GaltonFamilies[-train,c(\"father\", \"mother\", \"gender_bin\", \"childHeight\")]\n",
        "\n",
        "    #3\n",
        "    fit_baseline <- lm(childHeight ~ ., data = traindata)\n",
        "\n",
        "    knn_k = 3\n",
        "    k <- knn(\n",
        "        traindata[,c(\"father\", \"mother\", \"gender_bin\")], \n",
        "        testdata[,c(\"father\", \"mother\", \"gender_bin\")], \n",
        "        traindata[,\"childHeight\"], \n",
        "        k = knn_k)\n",
        "    indices = attr(k, \"nn.index\")\n",
        "    height_baseline_pred <- c(0,ntest)\n",
        "\n",
        "    #4\n",
        "    for (j in 1:ntest){\n",
        "        pred = predict(fit_baseline,testdata[j,])\n",
        "        diff_gen = abs(knn_k*testdata[j,]$gender_bin - sum(traindata[indices[j,],]$gender_bin))\n",
        "        if (diff_gen > (knn_k-1)){\n",
        "            alpha = 1\n",
        "        }\n",
        "        else if (diff_gen > (knn_k-2)){\n",
        "            alpha = 0.99\n",
        "        }\n",
        "        else if (diff_gen > (knn_k-3)){\n",
        "            alpha = 0.8\n",
        "        }\n",
        "        else{\n",
        "            alpha = 0.76\n",
        "        }\n",
        "        height_baseline_pred[j] <- alpha*pred + (1-alpha)*mean(traindata[indices[j,],]$childHeight)\n",
        "    }\n",
        "\n",
        "    MSE_bonus[i,1] <- mean((testdata$childHeight - height_baseline_pred)^2)\n",
        "}\n",
        "sum(MSE_bonus)/nrep"
      ],
      "execution_count": 7,
      "outputs": [
        {
          "output_type": "display_data",
          "data": {
            "text/plain": [
              "[1] 4.573529"
            ],
            "text/latex": "4.57352895086915",
            "text/markdown": "4.57352895086915",
            "text/html": [
              "4.57352895086915"
            ]
          },
          "metadata": {}
        }
      ]
    },
    {
      "cell_type": "code",
      "metadata": {
        "colab": {
          "base_uri": "https://localhost:8080/",
          "height": 34
        },
        "id": "QnKt_3mD3Q6b",
        "outputId": "aa372c19-fe9e-4619-f967-54f6b8b2c710"
      },
      "source": [
        "data(GaltonFamilies)\n",
        "set.seed(1) # set random seed for the reproduciable purpose \n",
        "nrep <- 100\n",
        "n <- dim(GaltonFamilies)[1]\n",
        "ntest <- 200\n",
        "MSE <- data.frame(matrix(0,nrep,1))\n",
        "names(MSE) <- c(\"lm\")\n",
        "for (i in 1:nrep){\n",
        "# partion training data and testing data\n",
        "train <- sample(1:n, n-ntest, replace = FALSE) \n",
        "traindata <- GaltonFamilies[train,]\n",
        "testdata <- GaltonFamilies[-train,]\n",
        "# Fit a baseline model\n",
        "fit_baseline <- lm(childHeight~gender + midparentHeight, traindata)\n",
        "# make prediction based on the fitted model\n",
        "height_baseline_pred <- predict(fit_baseline,testdata)\n",
        "# Evaluate model performance\n",
        "MSE[i,1] <- mean((testdata$childHeight - height_baseline_pred)^2)\n",
        "# Warning: You should not use childNum as a predictor in your model\n",
        "# because children within a family are listed in decreasing order of height \n",
        "# for boys followed by girls\n",
        "}\n",
        "sum(MSE)/nrep #the mean squared errors of the baseline model"
      ],
      "execution_count": 8,
      "outputs": [
        {
          "output_type": "display_data",
          "data": {
            "text/plain": [
              "[1] 4.694932"
            ],
            "text/latex": "4.69493223918065",
            "text/markdown": "4.69493223918065",
            "text/html": [
              "4.69493223918065"
            ]
          },
          "metadata": {}
        }
      ]
    },
    {
      "cell_type": "code",
      "metadata": {
        "colab": {
          "base_uri": "https://localhost:8080/",
          "height": 437
        },
        "id": "6I3qY3xrTzKQ",
        "outputId": "4f6778c2-f035-4549-b1c8-3032b783b084"
      },
      "source": [
        "boxplot(data.frame(MSE, MSE_bonus))"
      ],
      "execution_count": 9,
      "outputs": [
        {
          "output_type": "display_data",
          "data": {
            "image/png": "[encoded data removed]",
            "text/plain": [
              "plot without title"
            ]
          },
          "metadata": {
            "image/png": {
              "width": 420,
              "height": 420
            }
          }
        }
      ]
    }
  ]
}